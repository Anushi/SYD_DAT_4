{
 "cells": [
  {
   "cell_type": "markdown",
   "metadata": {},
   "source": [
    "# SYD DAT 3 Lab 1 - Git and Markdown\n",
    "\n",
    "##Homework:\n",
    "\n",
    "#### Setup\n",
    "* Resolve any installation issues before next class.\n",
    "* Make sure you have a github profile and created a repo called \"SYD_DAT_4\"\n",
    "* Clone the class repo (this one!)\n",
    "* Review this [code](../labs/Week 1/00_python_refresher.py) for a recap of some Python basics.\n",
    "\n",
    "#### Communication\n",
    "* Read [Analyzing the Analyzers](http://cdn.oreillystatic.com/oreilly/radarreport/0636920029014/Analyzing_the_Analyzers.pdf) for a useful look at the different types of data scientists. Write down 5 key points you took away from the article\n",
    "\n",
    "##### Answer\n",
    "1. Term “data scientists” is often confusing with no clear definition. Survey conducted on four data scientists shows that they have different level s of knowledge and skills in programming, statistics and visualization. However, unlike traditional and established fields, there is no clear career path and skill set defined for data science roles.\n",
    "2. Quite often there is miscommunication and unrealistic expectations from employers regarding desired skill sets for job role(s). This leads to significant wastage of time and expenses for employers scouting suitable candidates and for job-seekers searching right jobs.\n",
    "3. Data scientists are clustered into 4 categories (Self-IDs): Developer, Researcher, Creative and Businessperson.  The skills are classified into Business, ML/Big data, Math / OR, Programming and Statistics. There is a co-relation between Self-ID and skills.\n",
    "4. T-shaped skills for data scientists means they need to have breadth of skills in depth in one area. Such professionals can work in inter-disciplinary areas as data science collaborative and creative field.\n",
    "5. There needs to be adequate integration between new data scientist hires and rest of the organization. Also there should be well balance data science team. Data scientists can be rotated amongst various teams in an organization to gain breadth of skills and continue to develop their deep expertise.\n",
    "\n",
    "\n",
    "\n",
    "* Read about some [Markdown Techniques](http://daringfireball.net/projects/markdown/syntax)\n",
    "\n",
    "\n",
    "* Write a summary of 2 chapters of [The Data Science Handbook](http://www.thedatasciencehandbook.com/) in Markdown and submit a pull request in the Lab Directory\n",
    "\n",
    "##### Answer\n",
    "\n",
    "*** Datascience handbook – Summary Interview 1 (DJ Patil)\n",
    "\n",
    "DJ Patil is VP of Products at RelateIQ. He is a PhD in Mathematics who made career transition from academics to industry. He says making career transitions can be struggling; however, one must prove themselves to get hired by employers. To achieve this, he suggests people to acquire breadth of skills, build products, collaborate on team projects, and communicate with peers as data science is a team sport. A data scientist needs to be compassionate in understanding and solving problems, in the sense that you not only show data graphs for a problem but you also give insights about what actions to take further. Personally he thinks having dynamic range of skills like data and UX are beneficial to build useful features like “People you may know” on Linkedin.  They should also put in ample amount of time to understand disparate things of a problem and organization as it helps to develop bonds with team members. A good data scientist should be able to make storytell and create narratives.  And as advised by his PhD advisor, work on simple things as they become hard.\n",
    "\n",
    "*** Datascience handbook – Summary Interview 2 (Clare Corthell)\n",
    "\n",
    "Clare is Stanford graduate who designed here own data science course called Open Source Data Science Masters.  The course includes resources for introductory linear algebra, statistics, databases, algorithms, graph analysis, data mining, natural language processing, and machine learning. It was designed from the job descriptions of the companies that Clare was interested in. Other resources include Quora, blogs from zipfian academy and coursera.  To study data science, you don’t need to know everything and should be able to do “just in time” learning like programmers. Also it’s essential to have good mentors and ability to work in teams. For people in school and without much industry exposure, it is important to take initiative and acquire skills that can add value. This can be done by taking up an undefined problem, design a solution by designing and executing a project. This will give confidence, experience and skills during job interview and salary negotiation. Working with a non-profit organization is a good way to do meaningful projects and sharpen skills. Also learning to write production level code makes you hireable and trainable.\n",
    "\n",
    "\n",
    "#### Programming\n",
    "* Complete the lab from class and the additional Exercise below\n",
    "\n",
    "#### Course Project\n",
    "* Come up with 5 different ideas for your course project. For each one list:\n",
    "  * Overview of your idea\n",
    "  * What data you will use\n",
    "  * What the outcome is that you are trying to achieve\n",
    "  * Any ideas of modelling techniques it may involve\n",
    "\n",
    "**Instructions: copy this file and append your name in the filename, e.g. Homework1_ian_hansel.ipynb.\n",
    "Then commit this in your local repository, push it to your github account and create a pull request so I can see your work. Remeber if you get stuck to look at the slides going over Fork, Clone, Commit, Push and Pull request.**"
   ]
  },
  {
   "cell_type": "markdown",
   "metadata": {},
   "source": [
    "## Exercise Four - Movie Lens Data"
   ]
  },
  {
   "cell_type": "markdown",
   "metadata": {
    "collapsed": true
   },
   "source": [
    "# for each occupation in 'users', count the number of occurrences\n",
    "\n",
    "# for each occupation, calculate the mean age\n",
    "\n",
    "# for each occupation, calculate the minimum and maximum ages\n",
    "\n",
    "# for each combination of occupation and gender, calculate the mean age\n",
    "\n",
    "# randomly sample a DataFrame\n",
    "\n",
    "# detect duplicate users"
   ]
  }
 ],
 "metadata": {
  "kernelspec": {
   "display_name": "Python 2",
   "language": "python",
   "name": "python2"
  },
  "language_info": {
   "codemirror_mode": {
    "name": "ipython",
    "version": 2
   },
   "file_extension": ".py",
   "mimetype": "text/x-python",
   "name": "python",
   "nbconvert_exporter": "python",
   "pygments_lexer": "ipython2",
   "version": "2.7.11"
  }
 },
 "nbformat": 4,
 "nbformat_minor": 0
}
